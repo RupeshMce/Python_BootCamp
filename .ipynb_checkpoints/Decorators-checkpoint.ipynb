{
 "cells": [
  {
   "cell_type": "markdown",
   "metadata": {},
   "source": [
    "# Decorators\n",
    "\n",
    "\n",
    "Decorators can be thought of as functions which modify the *functionality* of another function. They help to make your code shorter and more \"Pythonic\". \n",
    "\n",
    "Decorators are one of the elegant features of the Python programming language. They are heavily used in modern libraries and frameworks.\n",
    "\n",
    "Decorators is a clean way of adding extra functionality to functions by using the “@” symbol. \n"
   ]
  },
  {
   "cell_type": "markdown",
   "metadata": {},
   "source": [
    "The Below Function allow upu to divide the numbers if it is possible,else it will show an error."
   ]
  },
  {
   "cell_type": "code",
   "execution_count": 1,
   "metadata": {},
   "outputs": [
    {
     "data": {
      "text/plain": [
       "0.4444444444444444"
      ]
     },
     "execution_count": 1,
     "metadata": {},
     "output_type": "execute_result"
    }
   ],
   "source": [
    "# This Check Function takes the div func as parameter to it and return an object of vaildate function\n",
    "# for which we will pass the args that what we actally what to process. The Function will check that \n",
    "# the divided is zero or Not.\n",
    "# If Zero it will the Error Statement mention below else return the output.\n",
    "\n",
    "def check(func):\n",
    "    def validate(a,b):\n",
    "        if b==0:\n",
    "            print(\"ZeroDivisionError: division by zero\")\n",
    "            return\n",
    "        else:\n",
    "            return func(a,b)\n",
    "    return validate\n",
    "\n",
    "@check                              # Decorator\n",
    "def div(a,b):\n",
    "    return a/b\n",
    "\n",
    "div(4,9)"
   ]
  },
  {
   "cell_type": "markdown",
   "metadata": {},
   "source": [
    "The Another example of Decorators here is that it will calcuate the time duration of that the function takes for excetution."
   ]
  },
  {
   "cell_type": "code",
   "execution_count": 2,
   "metadata": {},
   "outputs": [
    {
     "name": "stdout",
     "output_type": "stream",
     "text": [
      "Elapsed Time : 0.899183988571167 Sec\n"
     ]
    }
   ],
   "source": [
    "import time\n",
    "\n",
    "def timeit(func):\n",
    "    def time_calc(arg):\n",
    "        start=time.time()\n",
    "        param=func(arg)\n",
    "        print(\"Elapsed Time : {} Sec\".format(time.time()-start))\n",
    "       # return param \n",
    "    return time_calc\n",
    "\n",
    "@timeit\n",
    "def main_func(num):\n",
    "    temp=[]\n",
    "    for itr in range(num):\n",
    "        temp.append(itr)\n",
    "    return temp\n",
    "\n",
    "main_func(10000000)"
   ]
  },
  {
   "cell_type": "markdown",
   "metadata": {},
   "source": [
    "The Another Example is to Check Whether the User is an Authorized User or Not"
   ]
  },
  {
   "cell_type": "code",
   "execution_count": 3,
   "metadata": {},
   "outputs": [],
   "source": [
    "users={\n",
    "    \"rakul\":\"1234\",\n",
    "    \"mani\":\"2345\",\n",
    "    \"ruban\":\"4567\"\n",
    "}"
   ]
  },
  {
   "cell_type": "code",
   "execution_count": 4,
   "metadata": {},
   "outputs": [
    {
     "name": "stdout",
     "output_type": "stream",
     "text": [
      "Data has been Moved\n"
     ]
    }
   ],
   "source": [
    "def check(func):\n",
    "    def validate(user,passwd):\n",
    "        if user in users.keys() and passwd==users[user]:\n",
    "            return func(user,passwd)\n",
    "        else:\n",
    "            return \"Unauthorized User\"\n",
    "    return validate\n",
    "\n",
    "@check\n",
    "def move_data_to_server(username,passwd):\n",
    "    print(\"Data has been Moved\")\n",
    "\n",
    "move_data_to_server(\"rakul\",\"1234\")"
   ]
  }
 ],
 "metadata": {
  "kernelspec": {
   "display_name": "Python 3",
   "language": "python",
   "name": "python3"
  },
  "language_info": {
   "codemirror_mode": {
    "name": "ipython",
    "version": 3
   },
   "file_extension": ".py",
   "mimetype": "text/x-python",
   "name": "python",
   "nbconvert_exporter": "python",
   "pygments_lexer": "ipython3",
   "version": "3.5.2"
  }
 },
 "nbformat": 4,
 "nbformat_minor": 2
}
