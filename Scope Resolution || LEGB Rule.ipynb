{
 "cells": [
  {
   "cell_type": "markdown",
   "metadata": {},
   "source": [
    "# Namespace"
   ]
  },
  {
   "cell_type": "markdown",
   "metadata": {},
   "source": [
    "It is an naming system for making names unique to avoid ambiguity.It prevent varible name collisions that can occur especially when your code base includes multiple libraries"
   ]
  },
  {
   "cell_type": "markdown",
   "metadata": {},
   "source": [
    "# Scope of Variables"
   ]
  },
  {
   "cell_type": "markdown",
   "metadata": {},
   "source": [
    "Lets first understand that how the python deals with variable name when it is decalred. If a create a new varible in python it get stored in **namespace**.Variable Name has an attribute called **Scope** which will determine the visibilty of the varible from the rest of the code."
   ]
  },
  {
   "cell_type": "markdown",
   "metadata": {},
   "source": [
    "# Scope resolution via LEGB rule"
   ]
  },
  {
   "cell_type": "markdown",
   "metadata": {},
   "source": [
    "In Python the LEGB rule is used to determine the Scope of variable."
   ]
  },
  {
   "cell_type": "raw",
   "metadata": {},
   "source": [
    "It follows the hierarchy of:\n",
    "    1.Local\n",
    "    2.Enclosed\n",
    "    3.Global\n",
    "    4.Built-In"
   ]
  },
  {
   "cell_type": "markdown",
   "metadata": {},
   "source": [
    "# Local Scope"
   ]
  },
  {
   "cell_type": "markdown",
   "metadata": {},
   "source": [
    "Local Scope refer to the varible present in current function.Python always look for the varible decalred in local function at first"
   ]
  },
  {
   "cell_type": "code",
   "execution_count": 5,
   "metadata": {},
   "outputs": [
    {
     "name": "stdout",
     "output_type": "stream",
     "text": [
      "data = local\n"
     ]
    }
   ],
   "source": [
    "data=\"Global\"                # Global Assignment\n",
    "def func():\n",
    "    data=\"local\"\n",
    "    print(\"data = {}\".format(data))\n",
    "\n",
    "func()                      "
   ]
  },
  {
   "cell_type": "markdown",
   "metadata": {},
   "source": [
    "Here the print take palce inside the function, So it prints the value of **data** variable as it in local function "
   ]
  },
  {
   "cell_type": "markdown",
   "metadata": {},
   "source": [
    "# Enclosed Function Scope"
   ]
  },
  {
   "cell_type": "markdown",
   "metadata": {},
   "source": [
    "We need to define an variable name outer function enclosing the inner function."
   ]
  },
  {
   "cell_type": "code",
   "execution_count": 18,
   "metadata": {},
   "outputs": [
    {
     "name": "stdout",
     "output_type": "stream",
     "text": [
      "Scope reference was Enclosed Scope\n"
     ]
    }
   ],
   "source": [
    "name = \"Global Scope\"\n",
    "\n",
    "def func():    \n",
    "    name=\"Enclosed Scope\"\n",
    "    \n",
    "    def inner():\n",
    "        print(\"Scope reference was {}\".format(name))\n",
    "    \n",
    "    return inner()\n",
    "\n",
    "func()"
   ]
  },
  {
   "cell_type": "markdown",
   "metadata": {},
   "source": [
    "# Global Scope"
   ]
  },
  {
   "cell_type": "markdown",
   "metadata": {},
   "source": [
    "Defined at the uppermost level of scope."
   ]
  },
  {
   "cell_type": "code",
   "execution_count": 21,
   "metadata": {},
   "outputs": [
    {
     "name": "stdout",
     "output_type": "stream",
     "text": [
      "Scope reference was Global Scope\n"
     ]
    }
   ],
   "source": [
    "name = \"Global Scope\"\n",
    "\n",
    "def func():    \n",
    "    name=\"Enclosed Scope\"\n",
    "    \n",
    "    def inner():\n",
    "        print(\"Scope reference was {}\".format(name))\n",
    "    \n",
    "    return inner()\n",
    "\n",
    "#func()\n",
    "print(\"Scope reference was {}\".format(name))"
   ]
  },
  {
   "cell_type": "markdown",
   "metadata": {},
   "source": [
    "# Built-In Scope"
   ]
  },
  {
   "cell_type": "markdown",
   "metadata": {},
   "source": [
    "Reserved names in Python builtin modules"
   ]
  },
  {
   "cell_type": "code",
   "execution_count": 24,
   "metadata": {},
   "outputs": [
    {
     "data": {
      "text/plain": [
       "<function len(obj, /)>"
      ]
     },
     "execution_count": 24,
     "metadata": {},
     "output_type": "execute_result"
    }
   ],
   "source": [
    "len"
   ]
  },
  {
   "cell_type": "markdown",
   "metadata": {},
   "source": [
    "# Global Statement"
   ]
  },
  {
   "cell_type": "code",
   "execution_count": 27,
   "metadata": {},
   "outputs": [
    {
     "name": "stdout",
     "output_type": "stream",
     "text": [
      "Value of x is 10 before we call the func()\n",
      "Value of x is 10 inside the function as Global variable\n",
      "Value of x is 12 inside the function after new assignment\n",
      "Value of x is 12 outside the function and also after we call it\n"
     ]
    }
   ],
   "source": [
    "x=10\n",
    "print(\"Value of x is {} before we call the func()\".format(x))\n",
    "\n",
    "def func():\n",
    "    global x\n",
    "    print(\"Value of x is {} inside the function as Global variable\".format(x))\n",
    "    x=12\n",
    "    print(\"Value of x is {} inside the function after new assignment\".format(x))\n",
    "    \n",
    "func()\n",
    "print(\"Value of x is {} outside the function and also after we call it\".format(x))\n"
   ]
  },
  {
   "cell_type": "markdown",
   "metadata": {},
   "source": [
    "The Keyword called **global** is used in order to access the global variables values inside the function and also we can change those values.\n",
    "\n",
    "We call use the Keyword calles **globals** and **locals** to display all available "
   ]
  },
  {
   "cell_type": "code",
   "execution_count": 29,
   "metadata": {},
   "outputs": [
    {
     "data": {
      "text/plain": [
       "{'In': ['',\n",
       "  'data=\"Global\"\\ndef func():\\n    data=\"local\"\\n    return data\\n\\nfunc()',\n",
       "  'data=\"Global\"                # Global Assignment\\ndef func():\\n    data=\"local\"\\n    print(data)\\n\\nfunc()                      ',\n",
       "  'data=\"Global\"                # Global Assignment\\ndef func():\\n    data=\"local\"\\n    print(\"data = \"data)\\n\\nfunc()                      ',\n",
       "  'data=\"Global\"                # Global Assignment\\ndef func():\\n    data=\"local\"\\n    print(\"data = \",data)\\n\\nfunc()                      ',\n",
       "  'data=\"Global\"                # Global Assignment\\ndef func():\\n    data=\"local\"\\n    print(\"data = {}\".format(data))\\n\\nfunc()                      ',\n",
       "  'def func()',\n",
       "  'name = \"Global\"\\ndef func():\\n    name=\"Enclosed\"\\n    def inner():\\n        print(\"Scope is{}\".format(name))\\n    \\n    inner()',\n",
       "  'name = \"Global\"\\ndef func():\\n    name=\"Enclosed\"\\n    def inner():\\n        print(\"Scope is{}\".format(name))\\n    \\n    inner()\\n\\nfunc()',\n",
       "  'name = \"Global\"\\ndef func():\\n    name=\"Enclosed\"\\n    def inner():\\n        print(\"Scope is {}\".format(name))\\n    \\n    inner()\\n\\nfunc()',\n",
       "  'name = \"Global Scope\"\\ndef func():\\n    name=\"Enclosed Scope\"\\n    def inner():\\n        print(\"Scope reference was {}\".format(name))\\n    \\n    inner()\\n\\nfunc()',\n",
       "  'name = \"Global Scope\"\\ndef func():\\n    name=\"Enclosed Scope\"\\n    def inner():\\n        print(\"Scope reference was {}\".format(name))\\n    \\n    return inner()\\n\\nfunc()',\n",
       "  'name = \"Global Scope\"\\ndef func():\\n    name=\"Enclosed Scope\"\\n    def inner():\\n        print(\"Scope reference was {}\".format(name))\\n    \\n    return inner\\n\\nfunc()',\n",
       "  'name = \"Global Scope\"\\ndef func():\\n    name=\"Enclosed Scope\"\\n    def inner():\\n        print(\"Scope reference was {}\".format(name))\\n    \\n    return inner\\n\\nfunc()()',\n",
       "  'name = \"Global Scope\"\\ndef func():\\n    name=\"Enclosed Scope\"\\n    def inner():\\n        print(\"Scope reference was {}\".format(name))\\n    \\n    return inner\\n\\nfunc()',\n",
       "  'name = \"Global Scope\"\\ndef func():\\n    name=\"Enclosed Scope\"\\n    def inner():\\n        print(\"Scope reference was {}\".format(name))\\n    \\n    return inner()\\n\\nfunc()',\n",
       "  'name = \"Global Scope\"\\ndef func():\\n    name=\"Enclosed Scope\"\\n    def inner():\\n        nonlocal name\\n        print(\"Scope reference was {}\".format(name))\\n    \\n    return inner()\\n\\nfunc()',\n",
       "  'name = \"Global Scope\"\\n\\ndef func():    \\n    name=\"Enclosed Scope\"\\n    \\n    def inner():\\n        print(\"Scope reference was {}\".format(name))\\n    \\n    return inner()\\n\\nfunc()',\n",
       "  'name = \"Global Scope\"\\n\\ndef func():    \\n    name=\"Enclosed Scope\"\\n    \\n    def inner():\\n        print(\"Scope reference was {}\".format(name))\\n    \\n    return inner()\\n\\nfunc()',\n",
       "  'name = \"Global Scope\"\\n\\ndef func():    \\n    name=\"Enclosed Scope\"\\n    \\n    def inner():\\n        print(\"Scope reference was {}\".format(name))\\n    \\n    return inner()\\n\\nfunc()\\nprint(\"Scope reference was {}\".format(name))',\n",
       "  'name = \"Global Scope\"\\n\\ndef func():    \\n    name=\"Enclosed Scope\"\\n    \\n    def inner():\\n        print(\"Scope reference was {}\".format(name))\\n    \\n    return inner()\\n\\n#func()\\nprint(\"Scope reference was {}\".format(name))',\n",
       "  'name = \"Global Scope\"\\n\\ndef func():    \\n    name=\"Enclosed Scope\"\\n    \\n    def inner():\\n        print(\"Scope reference was {}\".format(name))\\n    \\n    return inner()\\n\\n#func()\\nprint(\"Scope reference was {}\".format(name))',\n",
       "  'len',\n",
       "  'pi',\n",
       "  'len',\n",
       "  'x=10\\nprint(\"Value of x is {} before we call the func()\".format(x))',\n",
       "  'x=10\\nprint(\"Value of x is {} before we call the func()\".format(x))\\n\\ndef func():\\n    global x\\n    print(\"Value of x is {} inside the function\".format(x))\\n    x=12\\n    print(\"Value of x is {} inside the function after new assignment\".format(x))\\n    \\nfunc()\\nprint(\"Value of x is {} outside the function and also after we call it\".format(x))',\n",
       "  'x=10\\nprint(\"Value of x is {} before we call the func()\".format(x))\\n\\ndef func():\\n    global x\\n    print(\"Value of x is {} inside the function as Global variable\".format(x))\\n    x=12\\n    print(\"Value of x is {} inside the function after new assignment\".format(x))\\n    \\nfunc()\\nprint(\"Value of x is {} outside the function and also after we call it\".format(x))',\n",
       "  'globals',\n",
       "  'globals()'],\n",
       " 'Out': {1: 'local',\n",
       "  12: <function __main__.func.<locals>.inner()>,\n",
       "  14: <function __main__.func.<locals>.inner()>,\n",
       "  22: <function len(obj, /)>,\n",
       "  24: <function len(obj, /)>,\n",
       "  28: <function globals()>},\n",
       " '_': <function globals()>,\n",
       " '_1': 'local',\n",
       " '_12': <function __main__.func.<locals>.inner()>,\n",
       " '_14': <function __main__.func.<locals>.inner()>,\n",
       " '_22': <function len(obj, /)>,\n",
       " '_24': <function len(obj, /)>,\n",
       " '_28': <function globals()>,\n",
       " '__': <function len(obj, /)>,\n",
       " '___': <function len(obj, /)>,\n",
       " '__builtin__': <module 'builtins' (built-in)>,\n",
       " '__builtins__': <module 'builtins' (built-in)>,\n",
       " '__doc__': 'Automatically created module for IPython interactive environment',\n",
       " '__loader__': None,\n",
       " '__name__': '__main__',\n",
       " '__package__': None,\n",
       " '__spec__': None,\n",
       " '_dh': ['/home/whirldata/Documents/Python_Task/Python_BootCamp'],\n",
       " '_i': 'globals',\n",
       " '_i1': 'data=\"Global\"\\ndef func():\\n    data=\"local\"\\n    return data\\n\\nfunc()',\n",
       " '_i10': 'name = \"Global Scope\"\\ndef func():\\n    name=\"Enclosed Scope\"\\n    def inner():\\n        print(\"Scope reference was {}\".format(name))\\n    \\n    inner()\\n\\nfunc()',\n",
       " '_i11': 'name = \"Global Scope\"\\ndef func():\\n    name=\"Enclosed Scope\"\\n    def inner():\\n        print(\"Scope reference was {}\".format(name))\\n    \\n    return inner()\\n\\nfunc()',\n",
       " '_i12': 'name = \"Global Scope\"\\ndef func():\\n    name=\"Enclosed Scope\"\\n    def inner():\\n        print(\"Scope reference was {}\".format(name))\\n    \\n    return inner\\n\\nfunc()',\n",
       " '_i13': 'name = \"Global Scope\"\\ndef func():\\n    name=\"Enclosed Scope\"\\n    def inner():\\n        print(\"Scope reference was {}\".format(name))\\n    \\n    return inner\\n\\nfunc()()',\n",
       " '_i14': 'name = \"Global Scope\"\\ndef func():\\n    name=\"Enclosed Scope\"\\n    def inner():\\n        print(\"Scope reference was {}\".format(name))\\n    \\n    return inner\\n\\nfunc()',\n",
       " '_i15': 'name = \"Global Scope\"\\ndef func():\\n    name=\"Enclosed Scope\"\\n    def inner():\\n        print(\"Scope reference was {}\".format(name))\\n    \\n    return inner()\\n\\nfunc()',\n",
       " '_i16': 'name = \"Global Scope\"\\ndef func():\\n    name=\"Enclosed Scope\"\\n    def inner():\\n        nonlocal name\\n        print(\"Scope reference was {}\".format(name))\\n    \\n    return inner()\\n\\nfunc()',\n",
       " '_i17': 'name = \"Global Scope\"\\n\\ndef func():    \\n    name=\"Enclosed Scope\"\\n    \\n    def inner():\\n        print(\"Scope reference was {}\".format(name))\\n    \\n    return inner()\\n\\nfunc()',\n",
       " '_i18': 'name = \"Global Scope\"\\n\\ndef func():    \\n    name=\"Enclosed Scope\"\\n    \\n    def inner():\\n        print(\"Scope reference was {}\".format(name))\\n    \\n    return inner()\\n\\nfunc()',\n",
       " '_i19': 'name = \"Global Scope\"\\n\\ndef func():    \\n    name=\"Enclosed Scope\"\\n    \\n    def inner():\\n        print(\"Scope reference was {}\".format(name))\\n    \\n    return inner()\\n\\nfunc()\\nprint(\"Scope reference was {}\".format(name))',\n",
       " '_i2': 'data=\"Global\"                # Global Assignment\\ndef func():\\n    data=\"local\"\\n    print(data)\\n\\nfunc()                      ',\n",
       " '_i20': 'name = \"Global Scope\"\\n\\ndef func():    \\n    name=\"Enclosed Scope\"\\n    \\n    def inner():\\n        print(\"Scope reference was {}\".format(name))\\n    \\n    return inner()\\n\\n#func()\\nprint(\"Scope reference was {}\".format(name))',\n",
       " '_i21': 'name = \"Global Scope\"\\n\\ndef func():    \\n    name=\"Enclosed Scope\"\\n    \\n    def inner():\\n        print(\"Scope reference was {}\".format(name))\\n    \\n    return inner()\\n\\n#func()\\nprint(\"Scope reference was {}\".format(name))',\n",
       " '_i22': 'len',\n",
       " '_i23': 'pi',\n",
       " '_i24': 'len',\n",
       " '_i25': 'x=10\\nprint(\"Value of x is {} before we call the func()\".format(x))',\n",
       " '_i26': 'x=10\\nprint(\"Value of x is {} before we call the func()\".format(x))\\n\\ndef func():\\n    global x\\n    print(\"Value of x is {} inside the function\".format(x))\\n    x=12\\n    print(\"Value of x is {} inside the function after new assignment\".format(x))\\n    \\nfunc()\\nprint(\"Value of x is {} outside the function and also after we call it\".format(x))',\n",
       " '_i27': 'x=10\\nprint(\"Value of x is {} before we call the func()\".format(x))\\n\\ndef func():\\n    global x\\n    print(\"Value of x is {} inside the function as Global variable\".format(x))\\n    x=12\\n    print(\"Value of x is {} inside the function after new assignment\".format(x))\\n    \\nfunc()\\nprint(\"Value of x is {} outside the function and also after we call it\".format(x))',\n",
       " '_i28': 'globals',\n",
       " '_i29': 'globals()',\n",
       " '_i3': 'data=\"Global\"                # Global Assignment\\ndef func():\\n    data=\"local\"\\n    print(\"data = \"data)\\n\\nfunc()                      ',\n",
       " '_i4': 'data=\"Global\"                # Global Assignment\\ndef func():\\n    data=\"local\"\\n    print(\"data = \",data)\\n\\nfunc()                      ',\n",
       " '_i5': 'data=\"Global\"                # Global Assignment\\ndef func():\\n    data=\"local\"\\n    print(\"data = {}\".format(data))\\n\\nfunc()                      ',\n",
       " '_i6': 'def func()',\n",
       " '_i7': 'name = \"Global\"\\ndef func():\\n    name=\"Enclosed\"\\n    def inner():\\n        print(\"Scope is{}\".format(name))\\n    \\n    inner()',\n",
       " '_i8': 'name = \"Global\"\\ndef func():\\n    name=\"Enclosed\"\\n    def inner():\\n        print(\"Scope is{}\".format(name))\\n    \\n    inner()\\n\\nfunc()',\n",
       " '_i9': 'name = \"Global\"\\ndef func():\\n    name=\"Enclosed\"\\n    def inner():\\n        print(\"Scope is {}\".format(name))\\n    \\n    inner()\\n\\nfunc()',\n",
       " '_ih': ['',\n",
       "  'data=\"Global\"\\ndef func():\\n    data=\"local\"\\n    return data\\n\\nfunc()',\n",
       "  'data=\"Global\"                # Global Assignment\\ndef func():\\n    data=\"local\"\\n    print(data)\\n\\nfunc()                      ',\n",
       "  'data=\"Global\"                # Global Assignment\\ndef func():\\n    data=\"local\"\\n    print(\"data = \"data)\\n\\nfunc()                      ',\n",
       "  'data=\"Global\"                # Global Assignment\\ndef func():\\n    data=\"local\"\\n    print(\"data = \",data)\\n\\nfunc()                      ',\n",
       "  'data=\"Global\"                # Global Assignment\\ndef func():\\n    data=\"local\"\\n    print(\"data = {}\".format(data))\\n\\nfunc()                      ',\n",
       "  'def func()',\n",
       "  'name = \"Global\"\\ndef func():\\n    name=\"Enclosed\"\\n    def inner():\\n        print(\"Scope is{}\".format(name))\\n    \\n    inner()',\n",
       "  'name = \"Global\"\\ndef func():\\n    name=\"Enclosed\"\\n    def inner():\\n        print(\"Scope is{}\".format(name))\\n    \\n    inner()\\n\\nfunc()',\n",
       "  'name = \"Global\"\\ndef func():\\n    name=\"Enclosed\"\\n    def inner():\\n        print(\"Scope is {}\".format(name))\\n    \\n    inner()\\n\\nfunc()',\n",
       "  'name = \"Global Scope\"\\ndef func():\\n    name=\"Enclosed Scope\"\\n    def inner():\\n        print(\"Scope reference was {}\".format(name))\\n    \\n    inner()\\n\\nfunc()',\n",
       "  'name = \"Global Scope\"\\ndef func():\\n    name=\"Enclosed Scope\"\\n    def inner():\\n        print(\"Scope reference was {}\".format(name))\\n    \\n    return inner()\\n\\nfunc()',\n",
       "  'name = \"Global Scope\"\\ndef func():\\n    name=\"Enclosed Scope\"\\n    def inner():\\n        print(\"Scope reference was {}\".format(name))\\n    \\n    return inner\\n\\nfunc()',\n",
       "  'name = \"Global Scope\"\\ndef func():\\n    name=\"Enclosed Scope\"\\n    def inner():\\n        print(\"Scope reference was {}\".format(name))\\n    \\n    return inner\\n\\nfunc()()',\n",
       "  'name = \"Global Scope\"\\ndef func():\\n    name=\"Enclosed Scope\"\\n    def inner():\\n        print(\"Scope reference was {}\".format(name))\\n    \\n    return inner\\n\\nfunc()',\n",
       "  'name = \"Global Scope\"\\ndef func():\\n    name=\"Enclosed Scope\"\\n    def inner():\\n        print(\"Scope reference was {}\".format(name))\\n    \\n    return inner()\\n\\nfunc()',\n",
       "  'name = \"Global Scope\"\\ndef func():\\n    name=\"Enclosed Scope\"\\n    def inner():\\n        nonlocal name\\n        print(\"Scope reference was {}\".format(name))\\n    \\n    return inner()\\n\\nfunc()',\n",
       "  'name = \"Global Scope\"\\n\\ndef func():    \\n    name=\"Enclosed Scope\"\\n    \\n    def inner():\\n        print(\"Scope reference was {}\".format(name))\\n    \\n    return inner()\\n\\nfunc()',\n",
       "  'name = \"Global Scope\"\\n\\ndef func():    \\n    name=\"Enclosed Scope\"\\n    \\n    def inner():\\n        print(\"Scope reference was {}\".format(name))\\n    \\n    return inner()\\n\\nfunc()',\n",
       "  'name = \"Global Scope\"\\n\\ndef func():    \\n    name=\"Enclosed Scope\"\\n    \\n    def inner():\\n        print(\"Scope reference was {}\".format(name))\\n    \\n    return inner()\\n\\nfunc()\\nprint(\"Scope reference was {}\".format(name))',\n",
       "  'name = \"Global Scope\"\\n\\ndef func():    \\n    name=\"Enclosed Scope\"\\n    \\n    def inner():\\n        print(\"Scope reference was {}\".format(name))\\n    \\n    return inner()\\n\\n#func()\\nprint(\"Scope reference was {}\".format(name))',\n",
       "  'name = \"Global Scope\"\\n\\ndef func():    \\n    name=\"Enclosed Scope\"\\n    \\n    def inner():\\n        print(\"Scope reference was {}\".format(name))\\n    \\n    return inner()\\n\\n#func()\\nprint(\"Scope reference was {}\".format(name))',\n",
       "  'len',\n",
       "  'pi',\n",
       "  'len',\n",
       "  'x=10\\nprint(\"Value of x is {} before we call the func()\".format(x))',\n",
       "  'x=10\\nprint(\"Value of x is {} before we call the func()\".format(x))\\n\\ndef func():\\n    global x\\n    print(\"Value of x is {} inside the function\".format(x))\\n    x=12\\n    print(\"Value of x is {} inside the function after new assignment\".format(x))\\n    \\nfunc()\\nprint(\"Value of x is {} outside the function and also after we call it\".format(x))',\n",
       "  'x=10\\nprint(\"Value of x is {} before we call the func()\".format(x))\\n\\ndef func():\\n    global x\\n    print(\"Value of x is {} inside the function as Global variable\".format(x))\\n    x=12\\n    print(\"Value of x is {} inside the function after new assignment\".format(x))\\n    \\nfunc()\\nprint(\"Value of x is {} outside the function and also after we call it\".format(x))',\n",
       "  'globals',\n",
       "  'globals()'],\n",
       " '_ii': 'x=10\\nprint(\"Value of x is {} before we call the func()\".format(x))\\n\\ndef func():\\n    global x\\n    print(\"Value of x is {} inside the function as Global variable\".format(x))\\n    x=12\\n    print(\"Value of x is {} inside the function after new assignment\".format(x))\\n    \\nfunc()\\nprint(\"Value of x is {} outside the function and also after we call it\".format(x))',\n",
       " '_iii': 'x=10\\nprint(\"Value of x is {} before we call the func()\".format(x))\\n\\ndef func():\\n    global x\\n    print(\"Value of x is {} inside the function\".format(x))\\n    x=12\\n    print(\"Value of x is {} inside the function after new assignment\".format(x))\\n    \\nfunc()\\nprint(\"Value of x is {} outside the function and also after we call it\".format(x))',\n",
       " '_oh': {1: 'local',\n",
       "  12: <function __main__.func.<locals>.inner()>,\n",
       "  14: <function __main__.func.<locals>.inner()>,\n",
       "  22: <function len(obj, /)>,\n",
       "  24: <function len(obj, /)>,\n",
       "  28: <function globals()>},\n",
       " 'data': 'Global',\n",
       " 'exit': <IPython.core.autocall.ZMQExitAutocall at 0x7f72dc871c18>,\n",
       " 'func': <function __main__.func()>,\n",
       " 'get_ipython': <bound method InteractiveShell.get_ipython of <ipykernel.zmqshell.ZMQInteractiveShell object at 0x7f72dc899a58>>,\n",
       " 'name': 'Global Scope',\n",
       " 'quit': <IPython.core.autocall.ZMQExitAutocall at 0x7f72dc871c18>,\n",
       " 'x': 12}"
      ]
     },
     "execution_count": 29,
     "metadata": {},
     "output_type": "execute_result"
    }
   ],
   "source": [
    "globals()"
   ]
  },
  {
   "cell_type": "code",
   "execution_count": null,
   "metadata": {},
   "outputs": [],
   "source": []
  }
 ],
 "metadata": {
  "kernelspec": {
   "display_name": "Python 3",
   "language": "python",
   "name": "python3"
  },
  "language_info": {
   "codemirror_mode": {
    "name": "ipython",
    "version": 3
   },
   "file_extension": ".py",
   "mimetype": "text/x-python",
   "name": "python",
   "nbconvert_exporter": "python",
   "pygments_lexer": "ipython3",
   "version": "3.5.2"
  }
 },
 "nbformat": 4,
 "nbformat_minor": 2
}
